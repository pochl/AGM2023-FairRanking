{
 "cells": [
  {
   "cell_type": "code",
   "execution_count": 1,
   "metadata": {},
   "outputs": [],
   "source": [
    "import numpy as np\n",
    "import pandas as pd\n",
    "\n",
    "from func import (compute_pi_nsw, \n",
    "                  compute_pi_nsw_lag1, \n",
    "                  compute_obj_val, \n",
    "                  synthesize_rel_mat, \n",
    "                  exam_func)"
   ]
  },
  {
   "cell_type": "code",
   "execution_count": 2,
   "metadata": {},
   "outputs": [],
   "source": [
    "n_query = 20\n",
    "n_doc = 10\n",
    "k = 3\n",
    "default_lam = 1\n",
    "default_noise = 0.05\n",
    "flip_ratio = 0.3\n",
    "random_state = 1234"
   ]
  },
  {
   "cell_type": "code",
   "execution_count": 3,
   "metadata": {},
   "outputs": [],
   "source": [
    "v = exam_func(n_doc, k, \"inv\")\n",
    "\n",
    "rel_mat_true, rel_mat_obs = synthesize_rel_mat(\n",
    "                n_query=n_query,\n",
    "                n_doc=n_doc,\n",
    "                lam=default_lam,\n",
    "                noise=default_noise,\n",
    "                flip_ratio=flip_ratio,\n",
    "                random_state=random_state,\n",
    "            )"
   ]
  },
  {
   "cell_type": "code",
   "execution_count": 6,
   "metadata": {},
   "outputs": [
    {
     "name": "stderr",
     "output_type": "stream",
     "text": [
      "100%|██████████| 5/5 [00:02<00:00,  1.85it/s]\n"
     ]
    }
   ],
   "source": [
    "pi_0 = compute_pi_nsw(rel_mat=rel_mat_obs, v=v)\n",
    "pi_1 = compute_pi_nsw_lag1(rel_mat=rel_mat_obs, v=v, max_iter=5, verbose=True)\n",
    "\n",
    "opt_val_0 = compute_obj_val(pi_0, rel_mat_obs, v)\n",
    "opt_val_1 = compute_obj_val(pi_1, rel_mat_obs, v)"
   ]
  },
  {
   "cell_type": "code",
   "execution_count": 5,
   "metadata": {},
   "outputs": [
    {
     "name": "stdout",
     "output_type": "stream",
     "text": [
      "                   Original NSW  Lagrangified NSW\n",
      "Max Sum pi over k      1.000007          1.000005\n",
      "Max sum pi over i      1.000019          1.000005\n",
      "Optimal Value          8.377851          8.377838\n",
      "-------------------------------------------------------\n",
      "Maximum Difference of pi: 0.07029102677974508\n"
     ]
    }
   ],
   "source": [
    "result_df = pd.DataFrame([\n",
    "    [pi_0.sum(axis=2).max(), pi_1.sum(axis=2).max()],\n",
    "    [pi_0.sum(axis=1).max(), pi_1.sum(axis=2).max()],\n",
    "    [opt_val_0, opt_val_1]\n",
    "    ], \n",
    "    index = [\n",
    "        \"Max Sum pi over k\",\n",
    "        \"Max sum pi over i\",\n",
    "        \"Optimal Value\"\n",
    "    ],\n",
    "    columns = [\n",
    "        \"Original NSW\", \"Lagrangified NSW\"\n",
    "    ]\n",
    ")\n",
    "\n",
    "print(result_df)\n",
    "print(\"-------------------------------------------------------\")\n",
    "print(\"Maximum Difference of pi:\", np.abs(pi_0 - pi_1).max())\n",
    "\n"
   ]
  },
  {
   "cell_type": "markdown",
   "metadata": {},
   "source": [
    "#### **Validation of 1st Constraint**\n",
    "The first constraint of original NSW states that the sum of pi over k must be less than or equalt to 1. According to the result of Lagrangified NSW, we can see that the maximum of sum of pi over k is 1. This means that our attempt to lagrangify the first constraint works as expected. \n",
    "\n",
    "#### **Validation of 2nd Constraint**\n",
    "The second constraint of original NSW states that the sum of pi over i must be less than or equalt to 1. According to the result of Lagrangified NSW, we can see that the maximum of sum of pi over i is 1. This is expected since we keep the second constraint as is. \n",
    "\n",
    "#### **Optimal Value**\n",
    "The optimal values of both Original NSW and Lagrangified NSW are relatively the same and thus further validate the result of Lagrangified NSW\n",
    "\n",
    "#### **Maximum Difference of pi**\n",
    "Since the goal of this project is to compare the outcome envy from Original NSW and Lagrangified NSW, we must check how close are the pi from both algorithms. If both pi are almost identical, then there's no point in measuring the difference envy since the outcome envy must also be relatively the same. According to the result, we can see that the maximum difference of pi between the 2 algorithm is 0.07 (can be varied depending on the experiment parameters), which is 7% of the maximum possible difference. Thus, the difference is significant and it is worth exploring the difference of envy."
   ]
  }
 ],
 "metadata": {
  "kernelspec": {
   "display_name": "agm",
   "language": "python",
   "name": "python3"
  },
  "language_info": {
   "codemirror_mode": {
    "name": "ipython",
    "version": 3
   },
   "file_extension": ".py",
   "mimetype": "text/x-python",
   "name": "python",
   "nbconvert_exporter": "python",
   "pygments_lexer": "ipython3",
   "version": "3.9.18"
  }
 },
 "nbformat": 4,
 "nbformat_minor": 2
}
